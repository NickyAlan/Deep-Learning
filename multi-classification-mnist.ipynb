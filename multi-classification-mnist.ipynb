{
 "cells": [
  {
   "cell_type": "code",
   "execution_count": 3,
   "metadata": {},
   "outputs": [],
   "source": [
    "import tensorflow as tf\n",
    "from tensorflow import keras\n",
    "import numpy as np\n",
    "import matplotlib.pyplot as plt"
   ]
  },
  {
   "cell_type": "markdown",
   "metadata": {},
   "source": [
    "### Preprocessing data"
   ]
  },
  {
   "cell_type": "code",
   "execution_count": 31,
   "metadata": {},
   "outputs": [
    {
     "data": {
      "text/plain": [
       "((60000, 28, 28), (60000,), (10000, 28, 28), (10000,))"
      ]
     },
     "execution_count": 31,
     "metadata": {},
     "output_type": "execute_result"
    }
   ],
   "source": [
    "mnist = keras.datasets.mnist\n",
    "(x_train, y_train), (x_test, y_test) = mnist.load_data()\n",
    "x_train.shape, y_train.shape, x_test.shape, y_test.shape"
   ]
  },
  {
   "cell_type": "code",
   "execution_count": 13,
   "metadata": {},
   "outputs": [
    {
     "data": {
      "text/plain": [
       "<matplotlib.image.AxesImage at 0x2013e60c0a0>"
      ]
     },
     "execution_count": 13,
     "metadata": {},
     "output_type": "execute_result"
    },
    {
     "data": {
      "image/png": "[encoded data removed]",
      "text/plain": [
       "<Figure size 432x288 with 1 Axes>"
      ]
     },
     "metadata": {
      "needs_background": "light"
     },
     "output_type": "display_data"
    }
   ],
   "source": [
    "plt.imshow(x_train[12])"
   ]
  },
  {
   "cell_type": "markdown",
   "metadata": {},
   "source": [
    "Normalize data"
   ]
  },
  {
   "cell_type": "code",
   "execution_count": 17,
   "metadata": {},
   "outputs": [
    {
     "name": "stdout",
     "output_type": "stream",
     "text": [
      "3\n"
     ]
    },
    {
     "data": {
      "image/png": "[encoded data removed]",
      "text/plain": [
       "<Figure size 432x288 with 1 Axes>"
      ]
     },
     "metadata": {
      "needs_background": "light"
     },
     "output_type": "display_data"
    }
   ],
   "source": [
    "x_train, x_test = x_train/255., x_test/255.\n",
    "plt.imshow(x_train[12],cmap='gray')\n",
    "print(y_train[12])"
   ]
  },
  {
   "cell_type": "code",
   "execution_count": 22,
   "metadata": {},
   "outputs": [
    {
     "data": {
      "text/plain": [
       "(28, 28)"
      ]
     },
     "execution_count": 22,
     "metadata": {},
     "output_type": "execute_result"
    }
   ],
   "source": [
    "x_train[0].shape"
   ]
  },
  {
   "cell_type": "markdown",
   "metadata": {},
   "source": [
    "### Modeling"
   ]
  },
  {
   "cell_type": "markdown",
   "metadata": {},
   "source": [
    "The batch size defines the number of samples that will be propagated through the network.\n",
    "\n",
    "For instance, let's say you have 1050 training samples and you want to set up a batch_size equal to 100. The algorithm takes the first 100 samples (from 1st to 100th) from the training dataset and trains the network. Next, it takes the second 100 samples (from 101st to 200th) and trains the network again. "
   ]
  },
  {
   "cell_type": "code",
   "execution_count": 55,
   "metadata": {},
   "outputs": [
    {
     "name": "stdout",
     "output_type": "stream",
     "text": [
      "Epoch 1/10\n",
      "938/938 [==============================] - 2s 2ms/step - loss: 3.2078 - accuracy: 0.8674\n",
      "Epoch 2/10\n",
      "938/938 [==============================] - 2s 2ms/step - loss: 0.4393 - accuracy: 0.9083\n",
      "Epoch 3/10\n",
      "938/938 [==============================] - 2s 2ms/step - loss: 0.2834 - accuracy: 0.9324\n",
      "Epoch 4/10\n",
      "938/938 [==============================] - 2s 2ms/step - loss: 0.2182 - accuracy: 0.9437\n",
      "Epoch 5/10\n",
      "938/938 [==============================] - 2s 2ms/step - loss: 0.2031 - accuracy: 0.9468\n",
      "Epoch 6/10\n",
      "938/938 [==============================] - 2s 2ms/step - loss: 0.1754 - accuracy: 0.9533\n",
      "Epoch 7/10\n",
      "938/938 [==============================] - 2s 2ms/step - loss: 0.1777 - accuracy: 0.9551\n",
      "Epoch 8/10\n",
      "938/938 [==============================] - 2s 2ms/step - loss: 0.1664 - accuracy: 0.9579\n",
      "Epoch 9/10\n",
      "938/938 [==============================] - 2s 2ms/step - loss: 0.1518 - accuracy: 0.9607\n",
      "Epoch 10/10\n",
      "938/938 [==============================] - 2s 2ms/step - loss: 0.1481 - accuracy: 0.9633\n"
     ]
    }
   ],
   "source": [
    "tf.random.set_seed(42)\n",
    "model = keras.Sequential([\n",
    "    keras.layers.Flatten(input_shape=(28,28)),\n",
    "    keras.layers.Dense(128,activation='relu'),\n",
    "    keras.layers.Dense(10,activation='softmax') #output\n",
    "])\n",
    "\n",
    "model.compile(loss=keras.losses.SparseCategoricalCrossentropy(),\n",
    "                optimizer=keras.optimizers.Adam(learning_rate=.001),\n",
    "                metrics=['accuracy'])\n",
    "\n",
    "history = model.fit(x_train,y_train,epochs=10,batch_size=64)"
   ]
  },
  {
   "cell_type": "code",
   "execution_count": 56,
   "metadata": {},
   "outputs": [
    {
     "name": "stdout",
     "output_type": "stream",
     "text": [
      "Model: \"sequential_12\"\n",
      "_________________________________________________________________\n",
      " Layer (type)                Output Shape              Param #   \n",
      "=================================================================\n",
      " flatten_12 (Flatten)        (None, 784)               0         \n",
      "                                                                 \n",
      " dense_22 (Dense)            (None, 128)               100480    \n",
      "                                                                 \n",
      " dense_23 (Dense)            (None, 10)                1290      \n",
      "                                                                 \n",
      "=================================================================\n",
      "Total params: 101,770\n",
      "Trainable params: 101,770\n",
      "Non-trainable params: 0\n",
      "_________________________________________________________________\n"
     ]
    }
   ],
   "source": [
    "model.summary()"
   ]
  },
  {
   "cell_type": "code",
   "execution_count": 57,
   "metadata": {},
   "outputs": [
    {
     "name": "stdout",
     "output_type": "stream",
     "text": [
      "157/157 [==============================] - 0s 1ms/step - loss: 0.2304 - accuracy: 0.9547\n"
     ]
    },
    {
     "data": {
      "text/plain": [
       "[0.23043642938137054, 0.9546999931335449]"
      ]
     },
     "execution_count": 57,
     "metadata": {},
     "output_type": "execute_result"
    }
   ],
   "source": [
    "model.evaluate(x_test,y_test,batch_size=64)"
   ]
  },
  {
   "cell_type": "code",
   "execution_count": 58,
   "metadata": {},
   "outputs": [
    {
     "data": {
      "text/plain": [
       "<AxesSubplot:>"
      ]
     },
     "execution_count": 58,
     "metadata": {},
     "output_type": "execute_result"
    },
    {
     "data": {
      "image/png": "[encoded data removed]",
      "text/plain": [
       "<Figure size 432x288 with 1 Axes>"
      ]
     },
     "metadata": {
      "needs_background": "light"
     },
     "output_type": "display_data"
    }
   ],
   "source": [
    "import pandas as pd\n",
    "\n",
    "pd.DataFrame(history.history).plot()"
   ]
  },
  {
   "cell_type": "code",
   "execution_count": 68,
   "metadata": {},
   "outputs": [],
   "source": [
    "y_prob = model.predict(x_test)\n",
    "y_pred = y_prob.argmax(axis=1)\n"
   ]
  },
  {
   "cell_type": "code",
   "execution_count": 144,
   "metadata": {},
   "outputs": [],
   "source": [
    "import random\n",
    "def RandomSet(test_data,y_test,y_pred):\n",
    "    plt.figure(figsize=(5,5))\n",
    "    for i in range(1,5):\n",
    "        ax = plt.subplot(2,2,i)\n",
    "        index = random.choice(range(len(test_data)))\n",
    "\n",
    "        if y_test[index] == y_pred[index] :\n",
    "            cmap = plt.cm.Blues\n",
    "            color = 'blue' \n",
    "        else :\n",
    "            cmap =  plt.cm.Reds\n",
    "            color = 'red' \n",
    "\n",
    "        plt.imshow(test_data[index],cmap=cmap)\n",
    "        plt.title(y_pred[index],color=color)\n",
    "        plt.axis(False) # Remove Axis x and y"
   ]
  },
  {
   "cell_type": "code",
   "execution_count": 145,
   "metadata": {},
   "outputs": [
    {
     "data": {
      "image/png": "[encoded data removed]",
      "text/plain": [
       "<Figure size 360x360 with 4 Axes>"
      ]
     },
     "metadata": {
      "needs_background": "light"
     },
     "output_type": "display_data"
    }
   ],
   "source": [
    "RandomSet(x_test,y_test,y_pred)"
   ]
  },
  {
   "cell_type": "markdown",
   "metadata": {},
   "source": [
    "### Find ideal learning rate"
   ]
  },
  {
   "cell_type": "code",
   "execution_count": 164,
   "metadata": {},
   "outputs": [
    {
     "name": "stdout",
     "output_type": "stream",
     "text": [
      "Epoch 1/20\n",
      "938/938 [==============================] - 3s 2ms/step - loss: 11.7910 - accuracy: 0.7611 - lr: 1.0000e-04\n",
      "Epoch 2/20\n",
      "938/938 [==============================] - 2s 2ms/step - loss: 2.9124 - accuracy: 0.8965 - lr: 1.5849e-04\n",
      "Epoch 3/20\n",
      "938/938 [==============================] - 2s 3ms/step - loss: 1.6520 - accuracy: 0.9251 - lr: 2.5119e-04\n",
      "Epoch 4/20\n",
      "938/938 [==============================] - 2s 2ms/step - loss: 1.0884 - accuracy: 0.9400 - lr: 3.9811e-04\n",
      "Epoch 5/20\n",
      "938/938 [==============================] - 2s 2ms/step - loss: 0.8490 - accuracy: 0.9459 - lr: 6.3096e-04\n",
      "Epoch 6/20\n",
      "938/938 [==============================] - 2s 2ms/step - loss: 0.6188 - accuracy: 0.9446 - lr: 0.0010\n",
      "Epoch 7/20\n",
      "938/938 [==============================] - 2s 2ms/step - loss: 0.4238 - accuracy: 0.9373 - lr: 0.0016\n",
      "Epoch 8/20\n",
      "938/938 [==============================] - 2s 2ms/step - loss: 0.3942 - accuracy: 0.9224 - lr: 0.0025\n",
      "Epoch 9/20\n",
      "938/938 [==============================] - 2s 2ms/step - loss: 0.5173 - accuracy: 0.8935 - lr: 0.0040\n",
      "Epoch 10/20\n",
      "938/938 [==============================] - 2s 2ms/step - loss: 0.8786 - accuracy: 0.7832 - lr: 0.0063\n",
      "Epoch 11/20\n",
      "938/938 [==============================] - 2s 2ms/step - loss: 1.6773 - accuracy: 0.4766 - lr: 0.0100\n",
      "Epoch 12/20\n",
      "938/938 [==============================] - 2s 2ms/step - loss: 2.1065 - accuracy: 0.2671 - lr: 0.0158\n",
      "Epoch 13/20\n",
      "938/938 [==============================] - 2s 2ms/step - loss: 2.2228 - accuracy: 0.1706 - lr: 0.0251\n",
      "Epoch 14/20\n",
      "938/938 [==============================] - 2s 3ms/step - loss: 2.4623 - accuracy: 0.1150 - lr: 0.0398\n",
      "Epoch 15/20\n",
      "938/938 [==============================] - 2s 2ms/step - loss: 2.4242 - accuracy: 0.1062 - lr: 0.0631\n",
      "Epoch 16/20\n",
      "938/938 [==============================] - 3s 3ms/step - loss: 2.3466 - accuracy: 0.1034 - lr: 0.1000\n",
      "Epoch 17/20\n",
      "938/938 [==============================] - 4s 4ms/step - loss: 2.3134 - accuracy: 0.1011 - lr: 0.1585\n",
      "Epoch 18/20\n",
      "938/938 [==============================] - 4s 4ms/step - loss: 2.3200 - accuracy: 0.1019 - lr: 0.2512\n",
      "Epoch 19/20\n",
      "938/938 [==============================] - 4s 4ms/step - loss: 2.7475 - accuracy: 0.1001 - lr: 0.3981\n",
      "Epoch 20/20\n",
      "938/938 [==============================] - 2s 2ms/step - loss: 2.3525 - accuracy: 0.1015 - lr: 0.6310\n"
     ]
    }
   ],
   "source": [
    "\n",
    "tf.random.set_seed(42)\n",
    "model_2 = keras.Sequential([\n",
    "    keras.layers.Flatten(input_shape=(28,28)),\n",
    "    keras.layers.Dense(128,activation='relu'),\n",
    "    keras.layers.Dense(10,activation='softmax') #output\n",
    "])\n",
    "\n",
    "model_2.compile(loss=keras.losses.SparseCategoricalCrossentropy(),\n",
    "                optimizer=keras.optimizers.Adam(learning_rate=.0001),\n",
    "                metrics=['accuracy'])\n",
    "\n",
    "lr_scheduler = tf.keras.callbacks.LearningRateScheduler(lambda epoch: 1e-4 * 10**(epoch/5))\n",
    "\n",
    "history = model_2.fit(x_train,y_train,epochs=20,batch_size=64,callbacks=[lr_scheduler])"
   ]
  },
  {
   "cell_type": "code",
   "execution_count": 166,
   "metadata": {},
   "outputs": [
    {
     "data": {
      "image/png": "[encoded data removed]",
      "text/plain": [
       "<Figure size 432x288 with 1 Axes>"
      ]
     },
     "metadata": {
      "needs_background": "light"
     },
     "output_type": "display_data"
    }
   ],
   "source": [
    "lrs = 1e-4 * (10**(np.arange(20)/20))\n",
    "plt.semilogx(lrs, history.history[\"loss\"]) # want the x-axis to be log-scale\n",
    "plt.xlabel(\"Learning rate\")\n",
    "plt.ylabel(\"Loss\")\n",
    "plt.title(\"Finding the ideal learning rate\");"
   ]
  },
  {
   "cell_type": "markdown",
   "metadata": {},
   "source": [
    "ideal learning rate about 0.0001 - 0.0002"
   ]
  },
  {
   "cell_type": "code",
   "execution_count": 171,
   "metadata": {},
   "outputs": [
    {
     "name": "stdout",
     "output_type": "stream",
     "text": [
      "Epoch 1/10\n",
      "938/938 [==============================] - 3s 2ms/step - loss: 7.7690 - accuracy: 0.8225\n",
      "Epoch 2/10\n",
      "938/938 [==============================] - 2s 2ms/step - loss: 1.9555 - accuracy: 0.9180\n",
      "Epoch 3/10\n",
      "938/938 [==============================] - 2s 3ms/step - loss: 1.1532 - accuracy: 0.9382\n",
      "Epoch 4/10\n",
      "938/938 [==============================] - 2s 2ms/step - loss: 0.7672 - accuracy: 0.9505\n",
      "Epoch 5/10\n",
      "938/938 [==============================] - 2s 2ms/step - loss: 0.5364 - accuracy: 0.9604\n",
      "Epoch 6/10\n",
      "938/938 [==============================] - 2s 2ms/step - loss: 0.4077 - accuracy: 0.9665\n",
      "Epoch 7/10\n",
      "938/938 [==============================] - 2s 2ms/step - loss: 0.3248 - accuracy: 0.9705\n",
      "Epoch 8/10\n",
      "938/938 [==============================] - 2s 2ms/step - loss: 0.2527 - accuracy: 0.9746\n",
      "Epoch 9/10\n",
      "938/938 [==============================] - 2s 2ms/step - loss: 0.2008 - accuracy: 0.9785\n",
      "Epoch 10/10\n",
      "938/938 [==============================] - 2s 2ms/step - loss: 0.1684 - accuracy: 0.9811\n"
     ]
    }
   ],
   "source": [
    "tf.random.set_seed(42)\n",
    "model_3 = keras.Sequential([\n",
    "    keras.layers.Flatten(input_shape=(28,28)),\n",
    "    keras.layers.Dense(128,activation='relu'),\n",
    "    keras.layers.Dense(10,activation='softmax') #output\n",
    "])\n",
    "\n",
    "model_3.compile(loss=keras.losses.SparseCategoricalCrossentropy(),\n",
    "                optimizer=keras.optimizers.Adam(learning_rate=0.0002),\n",
    "                metrics=['accuracy'])\n",
    "\n",
    "history = model_3.fit(x_train,y_train,epochs=10,batch_size=64)"
   ]
  },
  {
   "cell_type": "code",
   "execution_count": 173,
   "metadata": {},
   "outputs": [
    {
     "name": "stdout",
     "output_type": "stream",
     "text": [
      "157/157 [==============================] - 0s 2ms/step - loss: 0.8217 - accuracy: 0.9555\n"
     ]
    },
    {
     "data": {
      "text/plain": [
       "[0.8217073082923889, 0.9555000066757202]"
      ]
     },
     "execution_count": 173,
     "metadata": {},
     "output_type": "execute_result"
    }
   ],
   "source": [
    "model_3.evaluate(x_test,y_test,batch_size=64)"
   ]
  },
  {
   "cell_type": "code",
   "execution_count": 174,
   "metadata": {},
   "outputs": [],
   "source": [
    "y_prob = model_3.predict(x_test)\n",
    "y_pred = y_prob.argmax(axis=1)"
   ]
  },
  {
   "cell_type": "code",
   "execution_count": 180,
   "metadata": {},
   "outputs": [
    {
     "data": {
      "image/png": "[encoded data removed]",
      "text/plain": [
       "<Figure size 360x360 with 4 Axes>"
      ]
     },
     "metadata": {
      "needs_background": "light"
     },
     "output_type": "display_data"
    }
   ],
   "source": [
    "RandomSet(x_test,y_test,y_pred)"
   ]
  }
 ],
 "metadata": {
  "interpreter": {
   "hash": "4efaaac5e6a3ba87c3cc48343833a8dd70f0e3f6dfa4129331674315b012f1e3"
  },
  "kernelspec": {
   "display_name": "Python 3.10.0 64-bit",
   "language": "python",
   "name": "python3"
  },
  "language_info": {
   "codemirror_mode": {
    "name": "ipython",
    "version": 3
   },
   "file_extension": ".py",
   "mimetype": "text/x-python",
   "name": "python",
   "nbconvert_exporter": "python",
   "pygments_lexer": "ipython3",
   "version": "3.10.0"
  },
  "orig_nbformat": 4
 },
 "nbformat": 4,
 "nbformat_minor": 2
}

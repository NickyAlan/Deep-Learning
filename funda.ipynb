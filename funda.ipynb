{
 "cells": [
  {
   "cell_type": "code",
   "execution_count": 1,
   "metadata": {},
   "outputs": [],
   "source": [
    "import tensorflow as tf"
   ]
  },
  {
   "cell_type": "markdown",
   "metadata": {},
   "source": [
    "create tensor "
   ]
  },
  {
   "cell_type": "code",
   "execution_count": 2,
   "metadata": {},
   "outputs": [
    {
     "name": "stdout",
     "output_type": "stream",
     "text": [
      "0\n"
     ]
    },
    {
     "data": {
      "text/plain": [
       "<tf.Tensor: shape=(), dtype=int32, numpy=7>"
      ]
     },
     "execution_count": 2,
     "metadata": {},
     "output_type": "execute_result"
    }
   ],
   "source": [
    "scalar = tf.constant(7)\n",
    "print(scalar.ndim)\n",
    "scalar"
   ]
  },
  {
   "cell_type": "code",
   "execution_count": 3,
   "metadata": {},
   "outputs": [
    {
     "name": "stdout",
     "output_type": "stream",
     "text": [
      "1\n"
     ]
    },
    {
     "data": {
      "text/plain": [
       "<tf.Tensor: shape=(2,), dtype=int32, numpy=array([10, 12])>"
      ]
     },
     "execution_count": 3,
     "metadata": {},
     "output_type": "execute_result"
    }
   ],
   "source": [
    "vector = tf.constant([10,12])\n",
    "print(vector.ndim)\n",
    "vector"
   ]
  },
  {
   "cell_type": "code",
   "execution_count": 4,
   "metadata": {},
   "outputs": [
    {
     "name": "stdout",
     "output_type": "stream",
     "text": [
      "2\n"
     ]
    },
    {
     "data": {
      "text/plain": [
       "<tf.Tensor: shape=(2, 2), dtype=int32, numpy=\n",
       "array([[10,  7],\n",
       "       [ 7, 10]])>"
      ]
     },
     "execution_count": 4,
     "metadata": {},
     "output_type": "execute_result"
    }
   ],
   "source": [
    "matrix = tf.constant([[10,7],[7,10]])\n",
    "print(matrix.ndim)\n",
    "matrix"
   ]
  },
  {
   "cell_type": "code",
   "execution_count": 5,
   "metadata": {},
   "outputs": [
    {
     "name": "stdout",
     "output_type": "stream",
     "text": [
      "3\n"
     ]
    },
    {
     "data": {
      "text/plain": [
       "<tf.Tensor: shape=(3, 2, 3), dtype=int32, numpy=\n",
       "array([[[1, 2, 3],\n",
       "        [4, 5, 6]],\n",
       "\n",
       "       [[3, 2, 3],\n",
       "        [4, 7, 6]],\n",
       "\n",
       "       [[1, 2, 3],\n",
       "        [1, 0, 6]]])>"
      ]
     },
     "execution_count": 5,
     "metadata": {},
     "output_type": "execute_result"
    }
   ],
   "source": [
    "tensor = tf.constant([[[1,2,3],\n",
    "                       [4,5,6]],\n",
    "                       [[3,2,3],\n",
    "                       [4,7,6]],\n",
    "                       [[1,2,3],\n",
    "                       [1,0,6]]])\n",
    "print(tensor.ndim)\n",
    "tensor"
   ]
  },
  {
   "cell_type": "markdown",
   "metadata": {},
   "source": [
    "tensor variable : `tf.variable`"
   ]
  },
  {
   "cell_type": "code",
   "execution_count": 6,
   "metadata": {},
   "outputs": [
    {
     "data": {
      "text/plain": [
       "<tf.Variable 'Variable:0' shape=(2,) dtype=int32, numpy=array([11,  7])>"
      ]
     },
     "execution_count": 6,
     "metadata": {},
     "output_type": "execute_result"
    }
   ],
   "source": [
    "changeble = tf.Variable([10,7])\n",
    "changeble[0].assign(11)\n",
    "changeble"
   ]
  },
  {
   "cell_type": "code",
   "execution_count": 7,
   "metadata": {},
   "outputs": [
    {
     "data": {
      "text/plain": [
       "(<tf.Tensor: shape=(3, 2), dtype=bool, numpy=\n",
       " array([[ True,  True],\n",
       "        [ True,  True],\n",
       "        [ True,  True]])>,\n",
       " <tf.Tensor: shape=(3, 2), dtype=float32, numpy=\n",
       " array([[ 0.43842274, -0.53439844],\n",
       "        [-0.07710262,  1.5658046 ],\n",
       "        [-0.1012345 , -0.2744976 ]], dtype=float32)>,\n",
       " <tf.Tensor: shape=(3, 2), dtype=float32, numpy=\n",
       " array([[ 0.43842274, -0.53439844],\n",
       "        [-0.07710262,  1.5658046 ],\n",
       "        [-0.1012345 , -0.2744976 ]], dtype=float32)>)"
      ]
     },
     "execution_count": 7,
     "metadata": {},
     "output_type": "execute_result"
    }
   ],
   "source": [
    "random1 = tf.random.Generator.from_seed(1)\n",
    "random1 = random1.normal(shape=(3,2))\n",
    "random2 = tf.random.Generator.from_seed(1)\n",
    "random2 = random2.normal(shape=(3,2))\n",
    "\n",
    "random1 == random2, random1, random2 "
   ]
  },
  {
   "cell_type": "markdown",
   "metadata": {},
   "source": [
    "[tf.random.set_seed()](https://www.tensorflow.org/api_docs/python/tf/random/set_seed)"
   ]
  },
  {
   "cell_type": "code",
   "execution_count": 8,
   "metadata": {},
   "outputs": [
    {
     "data": {
      "text/plain": [
       "<tf.Tensor: shape=(3, 2), dtype=int32, numpy=\n",
       "array([[10,  7],\n",
       "       [ 5, 13],\n",
       "       [ 4, 11]])>"
      ]
     },
     "execution_count": 8,
     "metadata": {},
     "output_type": "execute_result"
    }
   ],
   "source": [
    "a = tf.constant([[10,7],[4,11],[5,13]])\n",
    "b = tf.random.set_seed(1)\n",
    "b = tf.random.shuffle(a)\n",
    "b"
   ]
  },
  {
   "cell_type": "markdown",
   "metadata": {},
   "source": [
    "Numpy arrays to Tensorflow tensor"
   ]
  },
  {
   "cell_type": "code",
   "execution_count": 9,
   "metadata": {},
   "outputs": [],
   "source": [
    "import numpy as np"
   ]
  },
  {
   "cell_type": "code",
   "execution_count": 10,
   "metadata": {},
   "outputs": [
    {
     "data": {
      "text/plain": [
       "array([ 1,  2,  3,  4,  5,  6,  7,  8,  9, 10, 11, 12, 13, 14, 15, 16, 17,\n",
       "       18, 19, 20, 21, 22, 23, 24, 25, 26, 27, 28, 29, 30])"
      ]
     },
     "execution_count": 10,
     "metadata": {},
     "output_type": "execute_result"
    }
   ],
   "source": [
    "A = np.arange(1,31)\n",
    "A\n"
   ]
  },
  {
   "cell_type": "code",
   "execution_count": 11,
   "metadata": {},
   "outputs": [
    {
     "data": {
      "text/plain": [
       "<tf.Tensor: shape=(3, 5, 2), dtype=int32, numpy=\n",
       "array([[[ 1,  2],\n",
       "        [ 3,  4],\n",
       "        [ 5,  6],\n",
       "        [ 7,  8],\n",
       "        [ 9, 10]],\n",
       "\n",
       "       [[11, 12],\n",
       "        [13, 14],\n",
       "        [15, 16],\n",
       "        [17, 18],\n",
       "        [19, 20]],\n",
       "\n",
       "       [[21, 22],\n",
       "        [23, 24],\n",
       "        [25, 26],\n",
       "        [27, 28],\n",
       "        [29, 30]]])>"
      ]
     },
     "execution_count": 11,
     "metadata": {},
     "output_type": "execute_result"
    }
   ],
   "source": [
    "T = tf.constant(A,shape=(3,5,2))\n",
    "T"
   ]
  },
  {
   "cell_type": "code",
   "execution_count": 12,
   "metadata": {},
   "outputs": [
    {
     "name": "stdout",
     "output_type": "stream",
     "text": [
      "4\n"
     ]
    },
    {
     "data": {
      "text/plain": [
       "<tf.Tensor: shape=(3, 1, 3, 4), dtype=int32, numpy=\n",
       "array([[[[13, 16, 11, 13],\n",
       "         [16, 20, 18, 19],\n",
       "         [12, 16, 11, 17]]],\n",
       "\n",
       "\n",
       "       [[[19, 17, 21, 19],\n",
       "         [15, 16, 12, 17],\n",
       "         [18, 21, 20, 18]]],\n",
       "\n",
       "\n",
       "       [[[19, 13, 20, 13],\n",
       "         [12, 15, 17, 20],\n",
       "         [21, 20, 12, 17]]]])>"
      ]
     },
     "execution_count": 12,
     "metadata": {},
     "output_type": "execute_result"
    }
   ],
   "source": [
    "t = tf.random.set_seed(1)\n",
    "t = tf.random.uniform((3,1,3,4),11,22,dtype=tf.int32)\n",
    "print(t.ndim)\n",
    "t"
   ]
  },
  {
   "cell_type": "code",
   "execution_count": 13,
   "metadata": {},
   "outputs": [
    {
     "data": {
      "text/plain": [
       "<tf.Tensor: shape=(3, 1, 2, 2), dtype=int32, numpy=\n",
       "array([[[[11, 13],\n",
       "         [18, 19]]],\n",
       "\n",
       "\n",
       "       [[[21, 19],\n",
       "         [12, 17]]],\n",
       "\n",
       "\n",
       "       [[[20, 13],\n",
       "         [17, 20]]]])>"
      ]
     },
     "execution_count": 13,
     "metadata": {},
     "output_type": "execute_result"
    }
   ],
   "source": [
    "t[:,:,:2,2:]"
   ]
  },
  {
   "cell_type": "code",
   "execution_count": 14,
   "metadata": {},
   "outputs": [
    {
     "data": {
      "text/plain": [
       "<tf.Variable 'Variable:0' shape=(2, 1, 3, 2) dtype=int32, numpy=\n",
       "array([[[[1, 7],\n",
       "         [1, 6],\n",
       "         [5, 6]]],\n",
       "\n",
       "\n",
       "       [[[4, 2],\n",
       "         [3, 1],\n",
       "         [4, 4]]]])>"
      ]
     },
     "execution_count": 14,
     "metadata": {},
     "output_type": "execute_result"
    }
   ],
   "source": [
    "var = tf.random.uniform((2,1,3,2),1,9,dtype=tf.int32)\n",
    "var = tf.Variable(var)\n",
    "var"
   ]
  },
  {
   "cell_type": "code",
   "execution_count": 15,
   "metadata": {},
   "outputs": [
    {
     "data": {
      "text/plain": [
       "<tf.Variable 'Variable:0' shape=(2, 1, 3, 2) dtype=int32, numpy=\n",
       "array([[[[1, 7],\n",
       "         [1, 6],\n",
       "         [5, 6]]],\n",
       "\n",
       "\n",
       "       [[[4, 0],\n",
       "         [3, 0],\n",
       "         [4, 1]]]])>"
      ]
     },
     "execution_count": 15,
     "metadata": {},
     "output_type": "execute_result"
    }
   ],
   "source": [
    "var[1,:,:,1].assign([[0,0,1]])\n",
    "var"
   ]
  },
  {
   "cell_type": "markdown",
   "metadata": {},
   "source": [
    "add dimention > tf.newaxis = tf.expand_dim"
   ]
  },
  {
   "cell_type": "code",
   "execution_count": 16,
   "metadata": {},
   "outputs": [
    {
     "data": {
      "text/plain": [
       "<tf.Tensor: shape=(3, 2), dtype=int32, numpy=\n",
       "array([[1, 2],\n",
       "       [3, 4],\n",
       "       [5, 6]])>"
      ]
     },
     "execution_count": 16,
     "metadata": {},
     "output_type": "execute_result"
    }
   ],
   "source": [
    "a = tf.constant([[1,2],[3,4],[5,6]])\n",
    "a"
   ]
  },
  {
   "cell_type": "code",
   "execution_count": 17,
   "metadata": {},
   "outputs": [
    {
     "name": "stdout",
     "output_type": "stream",
     "text": [
      "tf.Tensor(\n",
      "[[[1]\n",
      "  [2]]\n",
      "\n",
      " [[3]\n",
      "  [4]]\n",
      "\n",
      " [[5]\n",
      "  [6]]], shape=(3, 2, 1), dtype=int32)\n",
      "tf.Tensor(\n",
      "[[[1 2]]\n",
      "\n",
      " [[3 4]]\n",
      "\n",
      " [[5 6]]], shape=(3, 1, 2), dtype=int32)\n"
     ]
    }
   ],
   "source": [
    "print(a[:,:,tf.newaxis])\n",
    "print(a[:,tf.newaxis,:])"
   ]
  },
  {
   "cell_type": "code",
   "execution_count": 18,
   "metadata": {},
   "outputs": [
    {
     "name": "stdout",
     "output_type": "stream",
     "text": [
      "tf.Tensor(\n",
      "[[[1]\n",
      "  [2]]\n",
      "\n",
      " [[3]\n",
      "  [4]]\n",
      "\n",
      " [[5]\n",
      "  [6]]], shape=(3, 2, 1), dtype=int32)\n",
      "tf.Tensor(\n",
      "[[[1 2]]\n",
      "\n",
      " [[3 4]]\n",
      "\n",
      " [[5 6]]], shape=(3, 1, 2), dtype=int32)\n",
      "tf.Tensor(\n",
      "[[[1 2]\n",
      "  [3 4]\n",
      "  [5 6]]], shape=(1, 3, 2), dtype=int32)\n"
     ]
    }
   ],
   "source": [
    "# axis = shape index (0,1,2,3,...) # add dimention \n",
    "print(tf.expand_dims(a,axis=2)) # add to column\n",
    "print(tf.expand_dims(a,axis=1)) # add to row\n",
    "print(tf.expand_dims(a,axis=0)) #add to channel (layer)"
   ]
  },
  {
   "cell_type": "markdown",
   "metadata": {},
   "source": [
    "tensor operation"
   ]
  },
  {
   "cell_type": "code",
   "execution_count": 19,
   "metadata": {},
   "outputs": [
    {
     "data": {
      "text/plain": [
       "<tf.Tensor: shape=(2, 2), dtype=int32, numpy=\n",
       "array([[1, 2],\n",
       "       [3, 4]])>"
      ]
     },
     "execution_count": 19,
     "metadata": {},
     "output_type": "execute_result"
    }
   ],
   "source": [
    "tensor = tf.constant([[1,2],[3,4]])\n",
    "tensor"
   ]
  },
  {
   "cell_type": "code",
   "execution_count": 20,
   "metadata": {},
   "outputs": [
    {
     "data": {
      "text/plain": [
       "(<tf.Tensor: shape=(2, 2), dtype=int32, numpy=\n",
       " array([[11, 12],\n",
       "        [13, 14]])>,\n",
       " <tf.Tensor: shape=(2, 2), dtype=int32, numpy=\n",
       " array([[0, 1],\n",
       "        [2, 3]])>,\n",
       " <tf.Tensor: shape=(2, 2), dtype=int32, numpy=\n",
       " array([[2, 4],\n",
       "        [6, 8]])>,\n",
       " <tf.Tensor: shape=(2, 2), dtype=float64, numpy=\n",
       " array([[0.5, 1. ],\n",
       "        [1.5, 2. ]])>,\n",
       " <tf.Tensor: shape=(2, 2), dtype=int32, numpy=\n",
       " array([[1, 2],\n",
       "        [3, 4]])>)"
      ]
     },
     "execution_count": 20,
     "metadata": {},
     "output_type": "execute_result"
    }
   ],
   "source": [
    "a = tf.math.add(tensor, 10)\n",
    "s = tf.math.subtract(tensor, 1)\n",
    "m = tf.math.multiply(tensor, 2)\n",
    "d = tf.math.divide(tensor, 2)\n",
    "a, s, m, d, tensor\n"
   ]
  },
  {
   "cell_type": "markdown",
   "metadata": {},
   "source": [
    "Matrix multiplication"
   ]
  },
  {
   "cell_type": "code",
   "execution_count": 21,
   "metadata": {},
   "outputs": [
    {
     "data": {
      "text/plain": [
       "(<tf.Tensor: shape=(3, 2), dtype=int32, numpy=\n",
       " array([[2, 3],\n",
       "        [3, 5],\n",
       "        [0, 1]])>,\n",
       " <tf.Tensor: shape=(3, 2), dtype=int32, numpy=\n",
       " array([[ 1,  3],\n",
       "        [10,  2],\n",
       "        [ 4,  7]])>)"
      ]
     },
     "execution_count": 21,
     "metadata": {},
     "output_type": "execute_result"
    }
   ],
   "source": [
    "t = tf.constant([[2,3],[3,5],[0,1]])\n",
    "w = tf.constant([[1,3],[10,2],[4,7]])\n",
    "t , w"
   ]
  },
  {
   "cell_type": "code",
   "execution_count": 22,
   "metadata": {},
   "outputs": [
    {
     "data": {
      "text/plain": [
       "<tf.Tensor: shape=(2, 3), dtype=int32, numpy=\n",
       "array([[ 1, 10,  4],\n",
       "       [ 3,  2,  7]])>"
      ]
     },
     "execution_count": 22,
     "metadata": {},
     "output_type": "execute_result"
    }
   ],
   "source": [
    "tf.transpose(w)"
   ]
  },
  {
   "cell_type": "code",
   "execution_count": 23,
   "metadata": {},
   "outputs": [
    {
     "data": {
      "text/plain": [
       "<tf.Tensor: shape=(3, 3), dtype=int32, numpy=\n",
       "array([[11, 26, 29],\n",
       "       [18, 40, 47],\n",
       "       [ 3,  2,  7]])>"
      ]
     },
     "execution_count": 23,
     "metadata": {},
     "output_type": "execute_result"
    }
   ],
   "source": [
    "tf.linalg.matmul(t,tf.transpose(w)) # same as t @ w  , transpoese shape for multiplication"
   ]
  },
  {
   "cell_type": "markdown",
   "metadata": {},
   "source": [
    "change dtype to improve speed"
   ]
  },
  {
   "cell_type": "code",
   "execution_count": 24,
   "metadata": {},
   "outputs": [
    {
     "data": {
      "text/plain": [
       "tf.int32"
      ]
     },
     "execution_count": 24,
     "metadata": {},
     "output_type": "execute_result"
    }
   ],
   "source": [
    "a = tf.constant([[1,2],[3,4]])\n",
    "a.dtype"
   ]
  },
  {
   "cell_type": "code",
   "execution_count": 25,
   "metadata": {},
   "outputs": [
    {
     "data": {
      "text/plain": [
       "<tf.Tensor: shape=(2, 2), dtype=float16, numpy=\n",
       "array([[1., 2.],\n",
       "       [3., 4.]], dtype=float16)>"
      ]
     },
     "execution_count": 25,
     "metadata": {},
     "output_type": "execute_result"
    }
   ],
   "source": [
    "a = tf.cast(a, dtype=tf.float16)\n",
    "a"
   ]
  },
  {
   "cell_type": "markdown",
   "metadata": {},
   "source": [
    "tensor agg"
   ]
  },
  {
   "cell_type": "code",
   "execution_count": 26,
   "metadata": {},
   "outputs": [
    {
     "name": "stdout",
     "output_type": "stream",
     "text": [
      "tf.Tensor(\n",
      "[16. 18. 11. 15. 17. 24. 16. 11. 17. 16. 17. 22. 27. 14. 16. 12. 11. 14.\n",
      " 18. 13. 14. 12. 29. 13. 14. 12. 19. 27. 29. 15.], shape=(30,), dtype=float32)\n",
      "max : tf.Tensor(29.0, shape=(), dtype=float32)\n",
      "idx max : tf.Tensor(22, shape=(), dtype=int64)\n",
      "tf.Tensor(29.0, shape=(), dtype=float32)\n",
      "\n",
      "mean : tf.Tensor(16.966667, shape=(), dtype=float32)\n",
      "sum : tf.Tensor(509.0, shape=(), dtype=float32)\n",
      "SD : tf.Tensor(5.2629733, shape=(), dtype=float32)\n",
      "varintce : tf.Tensor(27.698889, shape=(), dtype=float32)\n",
      "varintce is SD**2 : tf.Tensor(5.2629733, shape=(), dtype=float32)\n"
     ]
    }
   ],
   "source": [
    "t = tf.constant(np.random.randint(10,30,size=30),dtype=tf.float32)\n",
    "print(t)\n",
    "print('max :',tf.reduce_max(t))\n",
    "print('idx max :',tf.argmax(t)) # index of maximum value\n",
    "print(t[tf.argmax(t)])\n",
    "print()\n",
    "print('mean :',tf.reduce_mean(t))\n",
    "print('sum :', tf.reduce_sum(t))\n",
    "print('SD :',tf.math.reduce_std(t))\n",
    "print('varintce :',tf.math.reduce_variance(t)) \n",
    "print('varintce is SD**2 :',tf.math.reduce_variance(t)**(1/2))"
   ]
  },
  {
   "cell_type": "markdown",
   "metadata": {},
   "source": [
    "remove 1 dimention of tensor"
   ]
  },
  {
   "cell_type": "code",
   "execution_count": 27,
   "metadata": {},
   "outputs": [
    {
     "name": "stdout",
     "output_type": "stream",
     "text": [
      "(1, 1, 1, 2, 15) tf.Tensor(\n",
      "[[[[[0.8292774  0.634228   0.5147276  0.39108086 0.5809028  0.04848182\n",
      "     0.1776321  0.70470166 0.49190843 0.3460425  0.5079107  0.2216742\n",
      "     0.8485558  0.94408786 0.52639234]\n",
      "    [0.3821411  0.2798195  0.0337733  0.43190658 0.09417534 0.96515214\n",
      "     0.75696373 0.6727526  0.5339211  0.32353437 0.39806926 0.19708812\n",
      "     0.8257885  0.15289044 0.60246646]]]]], shape=(1, 1, 1, 2, 15), dtype=float32) \n",
      "\n"
     ]
    },
    {
     "data": {
      "text/plain": [
       "(TensorShape([2, 15]),\n",
       " <tf.Tensor: shape=(2, 15), dtype=float32, numpy=\n",
       " array([[0.8292774 , 0.634228  , 0.5147276 , 0.39108086, 0.5809028 ,\n",
       "         0.04848182, 0.1776321 , 0.70470166, 0.49190843, 0.3460425 ,\n",
       "         0.5079107 , 0.2216742 , 0.8485558 , 0.94408786, 0.52639234],\n",
       "        [0.3821411 , 0.2798195 , 0.0337733 , 0.43190658, 0.09417534,\n",
       "         0.96515214, 0.75696373, 0.6727526 , 0.5339211 , 0.32353437,\n",
       "         0.39806926, 0.19708812, 0.8257885 , 0.15289044, 0.60246646]],\n",
       "       dtype=float32)>)"
      ]
     },
     "execution_count": 27,
     "metadata": {},
     "output_type": "execute_result"
    }
   ],
   "source": [
    "t = tf.constant(tf.random.uniform([30]), shape=(1,1,1,2,15))\n",
    "print(t.shape,t,'\\n')\n",
    "ts = tf.squeeze(t)\n",
    "ts.shape, ts"
   ]
  },
  {
   "cell_type": "markdown",
   "metadata": {},
   "source": [
    "One-hot encoding"
   ]
  },
  {
   "cell_type": "code",
   "execution_count": 44,
   "metadata": {},
   "outputs": [
    {
     "data": {
      "text/plain": [
       "<tf.Tensor: shape=(4, 5), dtype=float32, numpy=\n",
       "array([[1. , 0.2, 0.2, 0.2, 0.2],\n",
       "       [0.2, 0.2, 0.2, 1. , 0.2],\n",
       "       [0.2, 0.2, 1. , 0.2, 0.2],\n",
       "       [0.2, 0.2, 0.2, 0.2, 1. ]], dtype=float32)>"
      ]
     },
     "execution_count": 44,
     "metadata": {},
     "output_type": "execute_result"
    }
   ],
   "source": [
    "foo = [0,3,2,4]\n",
    "foo = tf.one_hot(foo, depth=5, on_value=1., off_value=0.2)\n",
    "foo"
   ]
  },
  {
   "cell_type": "markdown",
   "metadata": {},
   "source": [
    "Square, log, .. some math"
   ]
  },
  {
   "cell_type": "code",
   "execution_count": 59,
   "metadata": {},
   "outputs": [
    {
     "name": "stdout",
     "output_type": "stream",
     "text": [
      "tf.Tensor([1. 2. 3. 4. 5.], shape=(5,), dtype=float32)\n",
      "tf.Tensor([ 1.  4.  9. 16. 25.], shape=(5,), dtype=float32)\n",
      "tf.Tensor([0.99999994 1.4142134  1.7320508  1.9999999  2.236068  ], shape=(5,), dtype=float32)\n",
      "tf.Tensor([0.        0.6931472 1.0986123 1.3862944 1.609438 ], shape=(5,), dtype=float32)\n"
     ]
    }
   ],
   "source": [
    "a = tf.range(1,6,dtype=tf.float32)\n",
    "print(a)\n",
    "print(tf.square(a))\n",
    "print(tf.sqrt(a))\n",
    "print(tf.math.log(a))"
   ]
  }
 ],
 "metadata": {
  "interpreter": {
   "hash": "4efaaac5e6a3ba87c3cc48343833a8dd70f0e3f6dfa4129331674315b012f1e3"
  },
  "kernelspec": {
   "display_name": "Python 3.10.0 64-bit",
   "language": "python",
   "name": "python3"
  },
  "language_info": {
   "codemirror_mode": {
    "name": "ipython",
    "version": 3
   },
   "file_extension": ".py",
   "mimetype": "text/x-python",
   "name": "python",
   "nbconvert_exporter": "python",
   "pygments_lexer": "ipython3",
   "version": "3.10.0"
  },
  "orig_nbformat": 4
 },
 "nbformat": 4,
 "nbformat_minor": 2
}

{
 "cells": [
  {
   "cell_type": "code",
   "execution_count": 1,
   "metadata": {},
   "outputs": [],
   "source": [
    "import tensorflow as tf\n",
    "from tensorflow import keras\n",
    "from keras.datasets import fashion_mnist"
   ]
  },
  {
   "cell_type": "markdown",
   "metadata": {},
   "source": [
    "Get data"
   ]
  },
  {
   "cell_type": "code",
   "execution_count": 2,
   "metadata": {},
   "outputs": [],
   "source": [
    "(train_data, train_labels), (test_data, test_labels) = fashion_mnist.load_data()"
   ]
  },
  {
   "cell_type": "code",
   "execution_count": 3,
   "metadata": {},
   "outputs": [
    {
     "data": {
      "text/plain": [
       "((60000, 28, 28), (60000,))"
      ]
     },
     "execution_count": 3,
     "metadata": {},
     "output_type": "execute_result"
    }
   ],
   "source": [
    "train_data.shape, train_labels.shape"
   ]
  },
  {
   "cell_type": "code",
   "execution_count": 4,
   "metadata": {},
   "outputs": [
    {
     "data": {
      "text/plain": [
       "(28, 28)"
      ]
     },
     "execution_count": 4,
     "metadata": {},
     "output_type": "execute_result"
    }
   ],
   "source": [
    "#one image input and 10 for output because we have 10 typr of fashion__\n",
    "train_data[0].shape "
   ]
  },
  {
   "cell_type": "code",
   "execution_count": 5,
   "metadata": {},
   "outputs": [
    {
     "name": "stdout",
     "output_type": "stream",
     "text": [
      "Train Data[0]\n",
      "[[  0   0   0   0   0   0   0   0   0   0   0   0   0   0   0   0   0   0\n",
      "    0   0   0   0   0   0   0   0   0   0]\n",
      " [  0   0   0   0   0   0   0   0   0   0   0   0   0   0   0   0   0   0\n",
      "    0   0   0   0   0   0   0   0   0   0]\n",
      " [  0   0   0   0   0   0   0   0   0   0   0   0   0   0   0   0   0   0\n",
      "    0   0   0   0   0   0   0   0   0   0]\n",
      " [  0   0   0   0   0   0   0   0   0   0   0   0   1   0   0  13  73   0\n",
      "    0   1   4   0   0   0   0   1   1   0]\n",
      " [  0   0   0   0   0   0   0   0   0   0   0   0   3   0  36 136 127  62\n",
      "   54   0   0   0   1   3   4   0   0   3]\n",
      " [  0   0   0   0   0   0   0   0   0   0   0   0   6   0 102 204 176 134\n",
      "  144 123  23   0   0   0   0  12  10   0]\n",
      " [  0   0   0   0   0   0   0   0   0   0   0   0   0   0 155 236 207 178\n",
      "  107 156 161 109  64  23  77 130  72  15]\n",
      " [  0   0   0   0   0   0   0   0   0   0   0   1   0  69 207 223 218 216\n",
      "  216 163 127 121 122 146 141  88 172  66]\n",
      " [  0   0   0   0   0   0   0   0   0   1   1   1   0 200 232 232 233 229\n",
      "  223 223 215 213 164 127 123 196 229   0]\n",
      " [  0   0   0   0   0   0   0   0   0   0   0   0   0 183 225 216 223 228\n",
      "  235 227 224 222 224 221 223 245 173   0]\n",
      " [  0   0   0   0   0   0   0   0   0   0   0   0   0 193 228 218 213 198\n",
      "  180 212 210 211 213 223 220 243 202   0]\n",
      " [  0   0   0   0   0   0   0   0   0   1   3   0  12 219 220 212 218 192\n",
      "  169 227 208 218 224 212 226 197 209  52]\n",
      " [  0   0   0   0   0   0   0   0   0   0   6   0  99 244 222 220 218 203\n",
      "  198 221 215 213 222 220 245 119 167  56]\n",
      " [  0   0   0   0   0   0   0   0   0   4   0   0  55 236 228 230 228 240\n",
      "  232 213 218 223 234 217 217 209  92   0]\n",
      " [  0   0   1   4   6   7   2   0   0   0   0   0 237 226 217 223 222 219\n",
      "  222 221 216 223 229 215 218 255  77   0]\n",
      " [  0   3   0   0   0   0   0   0   0  62 145 204 228 207 213 221 218 208\n",
      "  211 218 224 223 219 215 224 244 159   0]\n",
      " [  0   0   0   0  18  44  82 107 189 228 220 222 217 226 200 205 211 230\n",
      "  224 234 176 188 250 248 233 238 215   0]\n",
      " [  0  57 187 208 224 221 224 208 204 214 208 209 200 159 245 193 206 223\n",
      "  255 255 221 234 221 211 220 232 246   0]\n",
      " [  3 202 228 224 221 211 211 214 205 205 205 220 240  80 150 255 229 221\n",
      "  188 154 191 210 204 209 222 228 225   0]\n",
      " [ 98 233 198 210 222 229 229 234 249 220 194 215 217 241  65  73 106 117\n",
      "  168 219 221 215 217 223 223 224 229  29]\n",
      " [ 75 204 212 204 193 205 211 225 216 185 197 206 198 213 240 195 227 245\n",
      "  239 223 218 212 209 222 220 221 230  67]\n",
      " [ 48 203 183 194 213 197 185 190 194 192 202 214 219 221 220 236 225 216\n",
      "  199 206 186 181 177 172 181 205 206 115]\n",
      " [  0 122 219 193 179 171 183 196 204 210 213 207 211 210 200 196 194 191\n",
      "  195 191 198 192 176 156 167 177 210  92]\n",
      " [  0   0  74 189 212 191 175 172 175 181 185 188 189 188 193 198 204 209\n",
      "  210 210 211 188 188 194 192 216 170   0]\n",
      " [  2   0   0   0  66 200 222 237 239 242 246 243 244 221 220 193 191 179\n",
      "  182 182 181 176 166 168  99  58   0   0]\n",
      " [  0   0   0   0   0   0   0  40  61  44  72  41  35   0   0   0   0   0\n",
      "    0   0   0   0   0   0   0   0   0   0]\n",
      " [  0   0   0   0   0   0   0   0   0   0   0   0   0   0   0   0   0   0\n",
      "    0   0   0   0   0   0   0   0   0   0]\n",
      " [  0   0   0   0   0   0   0   0   0   0   0   0   0   0   0   0   0   0\n",
      "    0   0   0   0   0   0   0   0   0   0]]\n",
      "\n",
      "is a type 9\n"
     ]
    }
   ],
   "source": [
    "print(f'Train Data[0]\\n{train_data[0]}\\n')\n",
    "print(f'is a type {train_labels[0]}')"
   ]
  },
  {
   "cell_type": "code",
   "execution_count": 6,
   "metadata": {},
   "outputs": [],
   "source": [
    "# https://github.com/zalandoresearch/fashion-mnist\n",
    "totype = ['T-shirt','Trouser','Pullover','Dress','Coat','Sandal','Shirt','Sneaker','Bag','Ankle boot']"
   ]
  },
  {
   "cell_type": "code",
   "execution_count": 7,
   "metadata": {},
   "outputs": [],
   "source": [
    "import matplotlib.pyplot as plt"
   ]
  },
  {
   "cell_type": "code",
   "execution_count": 8,
   "metadata": {},
   "outputs": [
    {
     "data": {
      "text/plain": [
       "'Shirt'"
      ]
     },
     "execution_count": 8,
     "metadata": {},
     "output_type": "execute_result"
    },
    {
     "data": {
      "image/png": "[encoded data removed]",
      "text/plain": [
       "<Figure size 432x288 with 1 Axes>"
      ]
     },
     "metadata": {
      "needs_background": "light"
     },
     "output_type": "display_data"
    }
   ],
   "source": [
    "data = 40\n",
    "plt.imshow(train_data[data], cmap=plt.cm.binary)\n",
    "totype[train_labels[data]]"
   ]
  },
  {
   "cell_type": "code",
   "execution_count": 9,
   "metadata": {},
   "outputs": [],
   "source": [
    "import random\n",
    "def RandomSet(train_data=train_data,train_labels=train_labels):\n",
    "    plt.figure(figsize=(5,5))\n",
    "    for i in range(1,5):\n",
    "        ax = plt.subplot(2,2,i)\n",
    "        index = random.choice(range(len(train_data)))\n",
    "        plt.imshow(train_data[index], cmap=plt.cm.binary)\n",
    "        plt.title(totype[train_labels[index]])\n",
    "        plt.axis(False) # Remove Axis x and y"
   ]
  },
  {
   "cell_type": "code",
   "execution_count": 10,
   "metadata": {},
   "outputs": [
    {
     "data": {
      "image/png": "[encoded data removed]",
      "text/plain": [
       "<Figure size 360x360 with 4 Axes>"
      ]
     },
     "metadata": {
      "needs_background": "light"
     },
     "output_type": "display_data"
    }
   ],
   "source": [
    "RandomSet()"
   ]
  },
  {
   "cell_type": "markdown",
   "metadata": {},
   "source": [
    "### Build Model\n",
    "* multi-classification\n",
    "* with input shape (28,28)\n",
    "* out put shape is (10,)\n",
    "* **softmax** for output activation function cause multi-classifucation\n",
    "* finally, use **SparseCategoricalCrossentropy** for loss function becuase labels is **integer form(0-9)**"
   ]
  },
  {
   "cell_type": "code",
   "execution_count": 11,
   "metadata": {},
   "outputs": [
    {
     "data": {
      "text/plain": [
       "(TensorShape([None, 784]), 784)"
      ]
     },
     "execution_count": 11,
     "metadata": {},
     "output_type": "execute_result"
    }
   ],
   "source": [
    "#flatten data\n",
    "flatten_model = tf.keras.Sequential([tf.keras.layers.Flatten(input_shape=(28,28))])\n",
    "flatten_model.output.shape , 28*28"
   ]
  },
  {
   "cell_type": "code",
   "execution_count": 12,
   "metadata": {},
   "outputs": [
    {
     "name": "stdout",
     "output_type": "stream",
     "text": [
      "Epoch 1/10\n",
      "1875/1875 [==============================] - 4s 2ms/step - loss: 2.1641 - accuracy: 0.1614 - val_loss: 1.7904 - val_accuracy: 0.2057\n",
      "Epoch 2/10\n",
      "1875/1875 [==============================] - 2s 1ms/step - loss: 1.7082 - accuracy: 0.2508 - val_loss: 1.6529 - val_accuracy: 0.3032\n",
      "Epoch 3/10\n",
      "1875/1875 [==============================] - 3s 1ms/step - loss: 1.6356 - accuracy: 0.2873 - val_loss: 1.6381 - val_accuracy: 0.2845\n",
      "Epoch 4/10\n",
      "1875/1875 [==============================] - 3s 2ms/step - loss: 1.6063 - accuracy: 0.3011 - val_loss: 1.5996 - val_accuracy: 0.3098\n",
      "Epoch 5/10\n",
      "1875/1875 [==============================] - 4s 2ms/step - loss: 1.5919 - accuracy: 0.3132 - val_loss: 1.5742 - val_accuracy: 0.3316\n",
      "Epoch 6/10\n",
      "1875/1875 [==============================] - 4s 2ms/step - loss: 1.5837 - accuracy: 0.3140 - val_loss: 1.5633 - val_accuracy: 0.3113\n",
      "Epoch 7/10\n",
      "1875/1875 [==============================] - 2s 1ms/step - loss: 1.5805 - accuracy: 0.3188 - val_loss: 1.5622 - val_accuracy: 0.3133\n",
      "Epoch 8/10\n",
      "1875/1875 [==============================] - 3s 2ms/step - loss: 1.5707 - accuracy: 0.3245 - val_loss: 1.5579 - val_accuracy: 0.3338\n",
      "Epoch 9/10\n",
      "1875/1875 [==============================] - 2s 1ms/step - loss: 1.5730 - accuracy: 0.3223 - val_loss: 1.5514 - val_accuracy: 0.3395\n",
      "Epoch 10/10\n",
      "1875/1875 [==============================] - 2s 1ms/step - loss: 1.5692 - accuracy: 0.3268 - val_loss: 1.5509 - val_accuracy: 0.3339\n"
     ]
    }
   ],
   "source": [
    "tf.random.set_seed(42)\n",
    "\n",
    "model_1 = keras.Sequential([\n",
    "    keras.layers.Flatten(input_shape=(28,28)), #flatten data 728\n",
    "    keras.layers.Dense(4, activation='relu'),\n",
    "    keras.layers.Dense(4, activation='relu'),\n",
    "    keras.layers.Dense(10, activation='softmax'),\n",
    "])\n",
    "\n",
    "model_1.compile(loss = keras.losses.SparseCategoricalCrossentropy(), #SparseCategoricalCrossentropy\n",
    "                optimizer = keras.optimizers.Adam(),\n",
    "                metrics = ['accuracy'])\n",
    "\n",
    "# the validation set, the model will try to predict but it won't update its weights (which means that it won't learn from them) \n",
    "nonnorm_history = model_1.fit(train_data,\n",
    "                    train_labels,\n",
    "                    epochs=10,\n",
    "                    validation_data=(test_data,test_labels))"
   ]
  },
  {
   "cell_type": "code",
   "execution_count": 13,
   "metadata": {},
   "outputs": [
    {
     "name": "stdout",
     "output_type": "stream",
     "text": [
      "Model: \"sequential_1\"\n",
      "_________________________________________________________________\n",
      " Layer (type)                Output Shape              Param #   \n",
      "=================================================================\n",
      " flatten_1 (Flatten)         (None, 784)               0         \n",
      "                                                                 \n",
      " dense (Dense)               (None, 4)                 3140      \n",
      "                                                                 \n",
      " dense_1 (Dense)             (None, 4)                 20        \n",
      "                                                                 \n",
      " dense_2 (Dense)             (None, 10)                50        \n",
      "                                                                 \n",
      "=================================================================\n",
      "Total params: 3,210\n",
      "Trainable params: 3,210\n",
      "Non-trainable params: 0\n",
      "_________________________________________________________________\n"
     ]
    }
   ],
   "source": [
    "model_1.summary()"
   ]
  },
  {
   "cell_type": "code",
   "execution_count": 14,
   "metadata": {},
   "outputs": [
    {
     "data": {
      "text/plain": [
       "(0, 255)"
      ]
     },
     "execution_count": 14,
     "metadata": {},
     "output_type": "execute_result"
    }
   ],
   "source": [
    "train_data.min(), train_data.max()"
   ]
  },
  {
   "cell_type": "markdown",
   "metadata": {},
   "source": [
    "### enhance model\n",
    "* normalization (between zero and one)"
   ]
  },
  {
   "cell_type": "code",
   "execution_count": 15,
   "metadata": {},
   "outputs": [
    {
     "data": {
      "text/plain": [
       "(0.0, 1.0)"
      ]
     },
     "execution_count": 15,
     "metadata": {},
     "output_type": "execute_result"
    }
   ],
   "source": [
    "train_data_norm, test_data_norm = (train_data/255.0), (test_data/255.0)\n",
    "train_data_norm.min(), train_data_norm.max()"
   ]
  },
  {
   "cell_type": "code",
   "execution_count": 16,
   "metadata": {},
   "outputs": [
    {
     "name": "stdout",
     "output_type": "stream",
     "text": [
      "Epoch 1/10\n",
      "1875/1875 [==============================] - 3s 1ms/step - loss: 1.0348 - accuracy: 0.6474 - val_loss: 0.6937 - val_accuracy: 0.7617\n",
      "Epoch 2/10\n",
      "1875/1875 [==============================] - 2s 1ms/step - loss: 0.6376 - accuracy: 0.7757 - val_loss: 0.6400 - val_accuracy: 0.7820\n",
      "Epoch 3/10\n",
      "1875/1875 [==============================] - 2s 1ms/step - loss: 0.5942 - accuracy: 0.7914 - val_loss: 0.6247 - val_accuracy: 0.7783\n",
      "Epoch 4/10\n",
      "1875/1875 [==============================] - 3s 2ms/step - loss: 0.5750 - accuracy: 0.7979 - val_loss: 0.6078 - val_accuracy: 0.7881\n",
      "Epoch 5/10\n",
      "1875/1875 [==============================] - 4s 2ms/step - loss: 0.5641 - accuracy: 0.8006 - val_loss: 0.6169 - val_accuracy: 0.7881\n",
      "Epoch 6/10\n",
      "1875/1875 [==============================] - 3s 1ms/step - loss: 0.5544 - accuracy: 0.8043 - val_loss: 0.5855 - val_accuracy: 0.7951\n",
      "Epoch 7/10\n",
      "1875/1875 [==============================] - 4s 2ms/step - loss: 0.5488 - accuracy: 0.8063 - val_loss: 0.6097 - val_accuracy: 0.7836\n",
      "Epoch 8/10\n",
      "1875/1875 [==============================] - 3s 2ms/step - loss: 0.5428 - accuracy: 0.8077 - val_loss: 0.5787 - val_accuracy: 0.7971\n",
      "Epoch 9/10\n",
      "1875/1875 [==============================] - 2s 1ms/step - loss: 0.5373 - accuracy: 0.8097 - val_loss: 0.5698 - val_accuracy: 0.7977\n",
      "Epoch 10/10\n",
      "1875/1875 [==============================] - 2s 1ms/step - loss: 0.5360 - accuracy: 0.8124 - val_loss: 0.5658 - val_accuracy: 0.8014\n"
     ]
    }
   ],
   "source": [
    "tf.random.set_seed(42)\n",
    "\n",
    "model_2 = keras.Sequential([\n",
    "    keras.layers.Flatten(input_shape=(28,28)), #flatten data 728\n",
    "    keras.layers.Dense(4, activation='relu'),\n",
    "    keras.layers.Dense(4, activation='relu'),\n",
    "    keras.layers.Dense(10, activation='softmax'),\n",
    "])\n",
    "\n",
    "model_2.compile(loss = keras.losses.SparseCategoricalCrossentropy(), #SparseCategoricalCrossentropy\n",
    "                optimizer = keras.optimizers.Adam(),\n",
    "                metrics = ['accuracy'])\n",
    "\n",
    "norm_history = model_2.fit(train_data_norm,\n",
    "                    train_labels,\n",
    "                    epochs=10,\n",
    "                    validation_data=(test_data_norm,test_labels))"
   ]
  },
  {
   "cell_type": "markdown",
   "metadata": {},
   "source": [
    ">! Just **normalize** data then accuracy got to 80%"
   ]
  },
  {
   "cell_type": "code",
   "execution_count": 17,
   "metadata": {},
   "outputs": [
    {
     "data": {
      "image/png": "[encoded data removed]",
      "text/plain": [
       "<Figure size 432x288 with 1 Axes>"
      ]
     },
     "metadata": {
      "needs_background": "light"
     },
     "output_type": "display_data"
    },
    {
     "data": {
      "image/png": "[encoded data removed]",
      "text/plain": [
       "<Figure size 432x288 with 1 Axes>"
      ]
     },
     "metadata": {
      "needs_background": "light"
     },
     "output_type": "display_data"
    }
   ],
   "source": [
    "import pandas as pd\n",
    "\n",
    "pd.DataFrame(nonnorm_history.history).plot(title='Non-norm data')\n",
    "pd.DataFrame(norm_history.history).plot(title='Norm data');"
   ]
  },
  {
   "cell_type": "markdown",
   "metadata": {},
   "source": [
    "### Fiding the ideal learning rate"
   ]
  },
  {
   "cell_type": "code",
   "execution_count": 18,
   "metadata": {},
   "outputs": [
    {
     "name": "stdout",
     "output_type": "stream",
     "text": [
      "Epoch 1/40\n",
      "1875/1875 [==============================] - 5s 2ms/step - loss: 2.1641 - accuracy: 0.1614 - val_loss: 1.7904 - val_accuracy: 0.2057 - lr: 0.0010\n",
      "Epoch 2/40\n",
      "1875/1875 [==============================] - 4s 2ms/step - loss: 1.7122 - accuracy: 0.2508 - val_loss: 1.6484 - val_accuracy: 0.3020 - lr: 0.0011\n",
      "Epoch 3/40\n",
      "1875/1875 [==============================] - 3s 1ms/step - loss: 1.6319 - accuracy: 0.2918 - val_loss: 1.5972 - val_accuracy: 0.3115 - lr: 0.0013\n",
      "Epoch 4/40\n",
      "1875/1875 [==============================] - 3s 2ms/step - loss: 1.6107 - accuracy: 0.2976 - val_loss: 1.5951 - val_accuracy: 0.3110 - lr: 0.0014\n",
      "Epoch 5/40\n",
      "1875/1875 [==============================] - 3s 2ms/step - loss: 1.6059 - accuracy: 0.3029 - val_loss: 2.0056 - val_accuracy: 0.2877 - lr: 0.0016\n",
      "Epoch 6/40\n",
      "1875/1875 [==============================] - 3s 2ms/step - loss: 1.6057 - accuracy: 0.3101 - val_loss: 1.5586 - val_accuracy: 0.3321 - lr: 0.0018\n",
      "Epoch 7/40\n",
      "1875/1875 [==============================] - 3s 2ms/step - loss: 1.5867 - accuracy: 0.3187 - val_loss: 1.5642 - val_accuracy: 0.3376 - lr: 0.0020\n",
      "Epoch 8/40\n",
      "1875/1875 [==============================] - 3s 2ms/step - loss: 1.5938 - accuracy: 0.3164 - val_loss: 1.6108 - val_accuracy: 0.3177 - lr: 0.0022\n",
      "Epoch 9/40\n",
      "1875/1875 [==============================] - 3s 2ms/step - loss: 1.6063 - accuracy: 0.3094 - val_loss: 1.5997 - val_accuracy: 0.3215 - lr: 0.0025\n",
      "Epoch 10/40\n",
      "1875/1875 [==============================] - 3s 1ms/step - loss: 1.6328 - accuracy: 0.3048 - val_loss: 1.6325 - val_accuracy: 0.2753 - lr: 0.0028\n",
      "Epoch 11/40\n",
      "1875/1875 [==============================] - 3s 2ms/step - loss: 1.5967 - accuracy: 0.3144 - val_loss: 1.5914 - val_accuracy: 0.3213 - lr: 0.0032\n",
      "Epoch 12/40\n",
      "1875/1875 [==============================] - 3s 1ms/step - loss: 1.5997 - accuracy: 0.3104 - val_loss: 1.6539 - val_accuracy: 0.2824 - lr: 0.0035\n",
      "Epoch 13/40\n",
      "1875/1875 [==============================] - 2s 1ms/step - loss: 1.5872 - accuracy: 0.3067 - val_loss: 1.5492 - val_accuracy: 0.3405 - lr: 0.0040\n",
      "Epoch 14/40\n",
      "1875/1875 [==============================] - 2s 1ms/step - loss: 2.0341 - accuracy: 0.1954 - val_loss: 1.7994 - val_accuracy: 0.1988 - lr: 0.0045\n",
      "Epoch 15/40\n",
      "1875/1875 [==============================] - 2s 1ms/step - loss: 1.7603 - accuracy: 0.1997 - val_loss: 1.7411 - val_accuracy: 0.2000 - lr: 0.0050\n",
      "Epoch 16/40\n",
      "1875/1875 [==============================] - 2s 1ms/step - loss: 1.7588 - accuracy: 0.1983 - val_loss: 1.7516 - val_accuracy: 0.1967 - lr: 0.0056\n",
      "Epoch 17/40\n",
      "1875/1875 [==============================] - 2s 1ms/step - loss: 1.7524 - accuracy: 0.1971 - val_loss: 1.7483 - val_accuracy: 0.2000 - lr: 0.0063\n",
      "Epoch 18/40\n",
      "1875/1875 [==============================] - 2s 1ms/step - loss: 1.7512 - accuracy: 0.1976 - val_loss: 1.7469 - val_accuracy: 0.1969 - lr: 0.0071\n",
      "Epoch 19/40\n",
      "1875/1875 [==============================] - 2s 1ms/step - loss: 1.7513 - accuracy: 0.1970 - val_loss: 1.7459 - val_accuracy: 0.2000 - lr: 0.0079\n",
      "Epoch 20/40\n",
      "1875/1875 [==============================] - 2s 1ms/step - loss: 1.7511 - accuracy: 0.1981 - val_loss: 1.7465 - val_accuracy: 0.1969 - lr: 0.0089\n",
      "Epoch 21/40\n",
      "1875/1875 [==============================] - 2s 1ms/step - loss: 1.7509 - accuracy: 0.1980 - val_loss: 1.7457 - val_accuracy: 0.1967 - lr: 0.0100\n",
      "Epoch 22/40\n",
      "1875/1875 [==============================] - 2s 1ms/step - loss: 1.7509 - accuracy: 0.1994 - val_loss: 1.7488 - val_accuracy: 0.2000 - lr: 0.0112\n",
      "Epoch 23/40\n",
      "1875/1875 [==============================] - 2s 1ms/step - loss: 1.7514 - accuracy: 0.1960 - val_loss: 1.7472 - val_accuracy: 0.1967 - lr: 0.0126\n",
      "Epoch 24/40\n",
      "1875/1875 [==============================] - 2s 1ms/step - loss: 1.7520 - accuracy: 0.1980 - val_loss: 1.7477 - val_accuracy: 0.2000 - lr: 0.0141\n",
      "Epoch 25/40\n",
      "1875/1875 [==============================] - 2s 1ms/step - loss: 1.7517 - accuracy: 0.1999 - val_loss: 1.7480 - val_accuracy: 0.1945 - lr: 0.0158\n",
      "Epoch 26/40\n",
      "1875/1875 [==============================] - 2s 1ms/step - loss: 1.7526 - accuracy: 0.1974 - val_loss: 1.7454 - val_accuracy: 0.2000 - lr: 0.0178\n",
      "Epoch 27/40\n",
      "1875/1875 [==============================] - 2s 1ms/step - loss: 1.7523 - accuracy: 0.2004 - val_loss: 1.7579 - val_accuracy: 0.1967 - lr: 0.0200\n",
      "Epoch 28/40\n",
      "1875/1875 [==============================] - 2s 1ms/step - loss: 1.7532 - accuracy: 0.1972 - val_loss: 1.7499 - val_accuracy: 0.2000 - lr: 0.0224\n",
      "Epoch 29/40\n",
      "1875/1875 [==============================] - 2s 1ms/step - loss: 1.7544 - accuracy: 0.1943 - val_loss: 1.7517 - val_accuracy: 0.1999 - lr: 0.0251\n",
      "Epoch 30/40\n",
      "1875/1875 [==============================] - 2s 1ms/step - loss: 1.7551 - accuracy: 0.1970 - val_loss: 1.7520 - val_accuracy: 0.1967 - lr: 0.0282\n",
      "Epoch 31/40\n",
      "1875/1875 [==============================] - 2s 1ms/step - loss: 1.7555 - accuracy: 0.1969 - val_loss: 1.7498 - val_accuracy: 0.1966 - lr: 0.0316\n",
      "Epoch 32/40\n",
      "1875/1875 [==============================] - 2s 1ms/step - loss: 1.7574 - accuracy: 0.1964 - val_loss: 1.7507 - val_accuracy: 0.1969 - lr: 0.0355\n",
      "Epoch 33/40\n",
      "1875/1875 [==============================] - 2s 1ms/step - loss: 1.7574 - accuracy: 0.1954 - val_loss: 1.7510 - val_accuracy: 0.1967 - lr: 0.0398\n",
      "Epoch 34/40\n",
      "1875/1875 [==============================] - 2s 1ms/step - loss: 1.7583 - accuracy: 0.2014 - val_loss: 1.7605 - val_accuracy: 0.1966 - lr: 0.0447\n",
      "Epoch 35/40\n",
      "1875/1875 [==============================] - 3s 2ms/step - loss: 1.7599 - accuracy: 0.1975 - val_loss: 1.7518 - val_accuracy: 0.1968 - lr: 0.0501\n",
      "Epoch 36/40\n",
      "1875/1875 [==============================] - 2s 1ms/step - loss: 1.7610 - accuracy: 0.1961 - val_loss: 1.7571 - val_accuracy: 0.1999 - lr: 0.0562\n",
      "Epoch 37/40\n",
      "1875/1875 [==============================] - 2s 1ms/step - loss: 1.7631 - accuracy: 0.1944 - val_loss: 1.7567 - val_accuracy: 0.1966 - lr: 0.0631\n",
      "Epoch 38/40\n",
      "1875/1875 [==============================] - 3s 2ms/step - loss: 1.7651 - accuracy: 0.1951 - val_loss: 1.7577 - val_accuracy: 0.1912 - lr: 0.0708\n",
      "Epoch 39/40\n",
      "1875/1875 [==============================] - 3s 2ms/step - loss: 1.7682 - accuracy: 0.1956 - val_loss: 1.7574 - val_accuracy: 0.1967 - lr: 0.0794\n",
      "Epoch 40/40\n",
      "1875/1875 [==============================] - 3s 2ms/step - loss: 1.7696 - accuracy: 0.1981 - val_loss: 1.7761 - val_accuracy: 0.2000 - lr: 0.0891\n"
     ]
    }
   ],
   "source": [
    "tf.random.set_seed(42)\n",
    "\n",
    "# Create the model\n",
    "model_3 = tf.keras.Sequential([\n",
    "  tf.keras.layers.Flatten(input_shape=(28, 28)), # input layer (we had to reshape 28x28 to 784)\n",
    "  tf.keras.layers.Dense(4, activation=\"relu\"),\n",
    "  tf.keras.layers.Dense(4, activation=\"relu\"),\n",
    "  tf.keras.layers.Dense(10, activation=\"softmax\") # output shape is 10, activation is softmax\n",
    "])\n",
    "\n",
    "# Compile the model\n",
    "model_3.compile(loss=tf.keras.losses.SparseCategoricalCrossentropy(),\n",
    "                 optimizer=tf.keras.optimizers.Adam(),\n",
    "                 metrics=[\"accuracy\"])\n",
    "\n",
    "# Create the learning rate callback\n",
    "lr_scheduler = tf.keras.callbacks.LearningRateScheduler(lambda epoch: 1e-3 * 10**(epoch/20))\n",
    "\n",
    "# Fit the model\n",
    "find_lr_history = model_3.fit(train_data,\n",
    "                               train_labels,\n",
    "                               epochs=40, \n",
    "                               validation_data=(test_data, test_labels),\n",
    "                               callbacks=[lr_scheduler])"
   ]
  },
  {
   "cell_type": "code",
   "execution_count": 19,
   "metadata": {},
   "outputs": [
    {
     "data": {
      "image/png": "[encoded data removed]",
      "text/plain": [
       "<Figure size 432x288 with 1 Axes>"
      ]
     },
     "metadata": {
      "needs_background": "light"
     },
     "output_type": "display_data"
    }
   ],
   "source": [
    "# Plot the learning rate versus the loss\n",
    "import numpy as np\n",
    "\n",
    "lrs = 1e-3 * (10**(np.arange(40)/20))\n",
    "plt.semilogx(lrs, find_lr_history.history[\"loss\"]) # want the x-axis to be log-scale\n",
    "plt.xlabel(\"Learning rate\")\n",
    "plt.ylabel(\"Loss\")\n",
    "plt.title(\"Finding the ideal learning rate\");"
   ]
  },
  {
   "cell_type": "markdown",
   "metadata": {},
   "source": [
    "looking lr = 0.001 is ideal "
   ]
  },
  {
   "cell_type": "code",
   "execution_count": 20,
   "metadata": {},
   "outputs": [
    {
     "name": "stdout",
     "output_type": "stream",
     "text": [
      "Epoch 1/20\n",
      "1875/1875 [==============================] - 3s 1ms/step - loss: 1.0966 - accuracy: 0.6275 - val_loss: 0.7959 - val_accuracy: 0.7328\n",
      "Epoch 2/20\n",
      "1875/1875 [==============================] - 2s 1ms/step - loss: 0.7063 - accuracy: 0.7535 - val_loss: 0.6690 - val_accuracy: 0.7627\n",
      "Epoch 3/20\n",
      "1875/1875 [==============================] - 2s 1ms/step - loss: 0.6184 - accuracy: 0.7861 - val_loss: 0.6178 - val_accuracy: 0.7841\n",
      "Epoch 4/20\n",
      "1875/1875 [==============================] - 4s 2ms/step - loss: 0.5817 - accuracy: 0.7986 - val_loss: 0.5948 - val_accuracy: 0.7950\n",
      "Epoch 5/20\n",
      "1875/1875 [==============================] - 2s 1ms/step - loss: 0.5615 - accuracy: 0.8047 - val_loss: 0.5959 - val_accuracy: 0.7876\n",
      "Epoch 6/20\n",
      "1875/1875 [==============================] - 2s 1ms/step - loss: 0.5451 - accuracy: 0.8095 - val_loss: 0.5637 - val_accuracy: 0.8024\n",
      "Epoch 7/20\n",
      "1875/1875 [==============================] - 2s 1ms/step - loss: 0.5350 - accuracy: 0.8119 - val_loss: 0.5496 - val_accuracy: 0.8093\n",
      "Epoch 8/20\n",
      "1875/1875 [==============================] - 2s 1ms/step - loss: 0.5249 - accuracy: 0.8167 - val_loss: 0.5610 - val_accuracy: 0.8046\n",
      "Epoch 9/20\n",
      "1875/1875 [==============================] - 2s 1ms/step - loss: 0.5171 - accuracy: 0.8182 - val_loss: 0.5378 - val_accuracy: 0.8110\n",
      "Epoch 10/20\n",
      "1875/1875 [==============================] - 2s 1ms/step - loss: 0.5100 - accuracy: 0.8208 - val_loss: 0.5439 - val_accuracy: 0.8050\n",
      "Epoch 11/20\n",
      "1875/1875 [==============================] - 2s 1ms/step - loss: 0.5051 - accuracy: 0.8216 - val_loss: 0.5343 - val_accuracy: 0.8090\n",
      "Epoch 12/20\n",
      "1875/1875 [==============================] - 2s 1ms/step - loss: 0.4986 - accuracy: 0.8232 - val_loss: 0.5345 - val_accuracy: 0.8121\n",
      "Epoch 13/20\n",
      "1875/1875 [==============================] - 2s 1ms/step - loss: 0.4954 - accuracy: 0.8266 - val_loss: 0.5293 - val_accuracy: 0.8155\n",
      "Epoch 14/20\n",
      "1875/1875 [==============================] - 2s 1ms/step - loss: 0.4911 - accuracy: 0.8279 - val_loss: 0.5315 - val_accuracy: 0.8127\n",
      "Epoch 15/20\n",
      "1875/1875 [==============================] - 2s 1ms/step - loss: 0.4878 - accuracy: 0.8275 - val_loss: 0.5155 - val_accuracy: 0.8194\n",
      "Epoch 16/20\n",
      "1875/1875 [==============================] - 2s 1ms/step - loss: 0.4850 - accuracy: 0.8293 - val_loss: 0.5182 - val_accuracy: 0.8197\n",
      "Epoch 17/20\n",
      "1875/1875 [==============================] - 2s 1ms/step - loss: 0.4818 - accuracy: 0.8305 - val_loss: 0.5204 - val_accuracy: 0.8160\n",
      "Epoch 18/20\n",
      "1875/1875 [==============================] - 2s 1ms/step - loss: 0.4815 - accuracy: 0.8296 - val_loss: 0.5248 - val_accuracy: 0.8129\n",
      "Epoch 19/20\n",
      "1875/1875 [==============================] - 2s 1ms/step - loss: 0.4797 - accuracy: 0.8313 - val_loss: 0.5157 - val_accuracy: 0.8186\n",
      "Epoch 20/20\n",
      "1875/1875 [==============================] - 2s 1ms/step - loss: 0.4774 - accuracy: 0.8329 - val_loss: 0.5138 - val_accuracy: 0.8215\n"
     ]
    }
   ],
   "source": [
    "model_4 = tf.keras.Sequential([\n",
    "  tf.keras.layers.Flatten(input_shape=(28, 28)),\n",
    "  tf.keras.layers.Dense(4, activation=\"relu\"),\n",
    "  tf.keras.layers.Dense(4, activation=\"relu\"),\n",
    "  tf.keras.layers.Dense(10, activation=\"softmax\") \n",
    "])\n",
    "\n",
    "# Compile the model\n",
    "model_4.compile(loss=tf.keras.losses.SparseCategoricalCrossentropy(),\n",
    "                 optimizer=tf.keras.optimizers.Adam(learning_rate=0.001),\n",
    "                 metrics=[\"accuracy\"])\n",
    "\n",
    "# Fit the model\n",
    "model4_history = model_4.fit(train_data_norm,\n",
    "                               train_labels,\n",
    "                               epochs=20, \n",
    "                               validation_data=(test_data_norm, test_labels))"
   ]
  },
  {
   "cell_type": "code",
   "execution_count": 21,
   "metadata": {},
   "outputs": [
    {
     "name": "stdout",
     "output_type": "stream",
     "text": [
      "313/313 [==============================] - 0s 1ms/step - loss: 0.0000e+00 - accuracy: 0.0000e+00\n"
     ]
    },
    {
     "data": {
      "text/plain": [
       "[0.0, 0.0]"
      ]
     },
     "execution_count": 21,
     "metadata": {},
     "output_type": "execute_result"
    }
   ],
   "source": [
    "# ! don't do this with multi-classification\n",
    "model_4.evaluate(test_data_norm) "
   ]
  },
  {
   "cell_type": "markdown",
   "metadata": {},
   "source": [
    "### Evaluating multi-classification\n",
    "* confusion matrix"
   ]
  },
  {
   "cell_type": "code",
   "execution_count": 22,
   "metadata": {},
   "outputs": [],
   "source": [
    "import itertools\n",
    "from sklearn.metrics import confusion_matrix\n",
    "\n",
    "\n",
    "def plot_confusin_metrix(y_true, y_pred, classes=None, figsize=(10,10),text_size=15):\n",
    "\n",
    "  # Create the confusion matrix\n",
    "  cm = confusion_matrix(y_true, y_pred)\n",
    "  cm_norm = cm.astype(\"float\") / cm.sum(axis=1)[:, np.newaxis] # normalize it , axis 1 = sum row\n",
    "  n_classes = cm.shape[0]\n",
    "\n",
    "  # Let's prettify it\n",
    "  fig, ax = plt.subplots(figsize=figsize)\n",
    "  # Create a matrix plot\n",
    "  cax = ax.matshow(cm, cmap=plt.cm.Blues) # https://matplotlib.org/3.2.0/api/_as_gen/matplotlib.axes.Axes.matshow.html\n",
    "  fig.colorbar(cax)\n",
    "\n",
    "\n",
    "  if classes:\n",
    "    labels = classes\n",
    "  else:\n",
    "    labels = np.arange(cm.shape[0])\n",
    "\n",
    "  # Label the axes\n",
    "  ax.set(title=\"Confusion Matrix\",\n",
    "        xlabel=\"Predicted label\",\n",
    "        ylabel=\"True label\",\n",
    "        xticks=np.arange(n_classes),\n",
    "        yticks=np.arange(n_classes),\n",
    "        xticklabels=labels,\n",
    "        yticklabels=labels)\n",
    "\n",
    "  # Set x-axis labels to bottom\n",
    "  ax.xaxis.set_label_position(\"bottom\")\n",
    "  ax.xaxis.tick_bottom()\n",
    "\n",
    "  # Adjust label size\n",
    "  ax.xaxis.label.set_size(text_size)\n",
    "  ax.yaxis.label.set_size(text_size)\n",
    "  ax.title.set_size(text_size)\n",
    "\n",
    "  # Set threshold for different colors\n",
    "  threshold = (cm.max() + cm.min()) / 2.\n",
    "\n",
    "  # Plot the text on each cell\n",
    "  for i, j in itertools.product(range(cm.shape[0]), range(cm.shape[1])):\n",
    "    plt.text(j, i, f\"{cm[i, j]} ({cm_norm[i, j]*100:.1f}%)\",\n",
    "            horizontalalignment=\"center\",\n",
    "            color=\"white\" if cm[i, j] > threshold else \"black\",\n",
    "            size=text_size)"
   ]
  },
  {
   "cell_type": "code",
   "execution_count": 23,
   "metadata": {},
   "outputs": [
    {
     "data": {
      "text/plain": [
       "['T-shirt',\n",
       " 'Trouser',\n",
       " 'Pullover',\n",
       " 'Dress',\n",
       " 'Coat',\n",
       " 'Sandal',\n",
       " 'Shirt',\n",
       " 'Sneaker',\n",
       " 'Bag',\n",
       " 'Ankle boot']"
      ]
     },
     "execution_count": 23,
     "metadata": {},
     "output_type": "execute_result"
    }
   ],
   "source": [
    "totype"
   ]
  },
  {
   "cell_type": "code",
   "execution_count": 101,
   "metadata": {},
   "outputs": [
    {
     "data": {
      "text/plain": [
       "(array([1.0183612e-04, 4.4053378e-10, 2.7683102e-05, 3.7423419e-07,\n",
       "        7.2828215e-07, 9.7783196e-01, 1.4095867e-04, 8.0181258e-03,\n",
       "        2.7202968e-03, 1.1158025e-02], dtype=float32),\n",
       " 5)"
      ]
     },
     "execution_count": 101,
     "metadata": {},
     "output_type": "execute_result"
    }
   ],
   "source": [
    "# when we predict full data batch size = None , means it is a dynamic shape t can take any value depending on\n",
    "y_probs = model_4.predict(test_data_norm)\n",
    "y_probs[11] , test_labels[11]"
   ]
  },
  {
   "cell_type": "markdown",
   "metadata": {},
   "source": [
    "index is have the most number is true probs labels"
   ]
  },
  {
   "cell_type": "code",
   "execution_count": 102,
   "metadata": {},
   "outputs": [
    {
     "data": {
      "text/plain": [
       "(5, 5)"
      ]
     },
     "execution_count": 102,
     "metadata": {},
     "output_type": "execute_result"
    }
   ],
   "source": [
    "y_probs[11].argmax(), test_labels[11]"
   ]
  },
  {
   "cell_type": "code",
   "execution_count": 26,
   "metadata": {},
   "outputs": [
    {
     "data": {
      "text/plain": [
       "(array([9, 2, 1, 1, 6, 1, 4, 6, 5, 7], dtype=int64),\n",
       " array([9, 2, 1, 1, 6, 1, 4, 6, 5, 7], dtype=uint8))"
      ]
     },
     "execution_count": 26,
     "metadata": {},
     "output_type": "execute_result"
    }
   ],
   "source": [
    "y_pred = y_probs.argmax(axis=1) # axis 1 is in row\n",
    "y_pred[:10], test_labels[:10]"
   ]
  },
  {
   "cell_type": "markdown",
   "metadata": {},
   "source": [
    "confusion matrix"
   ]
  },
  {
   "cell_type": "code",
   "execution_count": 32,
   "metadata": {},
   "outputs": [
    {
     "data": {
      "text/plain": [
       "array([[725,   1,  23,  89,   4,   2, 139,   1,  13,   3],\n",
       "       [  1, 941,  10,  38,   8,   0,   0,   0,   2,   0],\n",
       "       [ 16,   4, 734,  12, 129,   0, 101,   0,   4,   0],\n",
       "       [ 38,  10,  12, 844,  36,   0,  55,   0,   5,   0],\n",
       "       [  0,   4, 128,  27, 724,   0, 111,   0,   6,   0],\n",
       "       [  0,   1,   0,   1,   0, 923,   0,  38,   6,  31],\n",
       "       [137,   3, 132,  49, 102,   3, 544,   1,  28,   1],\n",
       "       [  0,   0,   0,   0,   0,  43,   0, 913,   1,  43],\n",
       "       [  5,   1,   0,   6,   1,  12,  40,   6, 928,   1],\n",
       "       [  2,   0,   0,   0,   0,  24,   0,  35,   0, 939]], dtype=int64)"
      ]
     },
     "execution_count": 32,
     "metadata": {},
     "output_type": "execute_result"
    }
   ],
   "source": [
    "from sklearn.metrics import confusion_matrix\n",
    "cm = confusion_matrix(test_labels,y_pred)\n",
    "cm"
   ]
  },
  {
   "cell_type": "code",
   "execution_count": 48,
   "metadata": {},
   "outputs": [
    {
     "data": {
      "text/plain": [
       "array([[1000],\n",
       "       [1000],\n",
       "       [1000],\n",
       "       [1000],\n",
       "       [1000],\n",
       "       [1000],\n",
       "       [1000],\n",
       "       [1000],\n",
       "       [1000],\n",
       "       [1000]], dtype=int64)"
      ]
     },
     "execution_count": 48,
     "metadata": {},
     "output_type": "execute_result"
    }
   ],
   "source": [
    "cm.sum(axis=1)[:,np.newaxis]"
   ]
  },
  {
   "cell_type": "code",
   "execution_count": 49,
   "metadata": {},
   "outputs": [
    {
     "data": {
      "image/png": "[encoded data removed]",
      "text/plain": [
       "<Figure size 1080x1080 with 2 Axes>"
      ]
     },
     "metadata": {
      "needs_background": "light"
     },
     "output_type": "display_data"
    }
   ],
   "source": [
    "plot_confusin_metrix(test_labels,y_pred,classes=totype,figsize=(15,15),text_size=10)"
   ]
  },
  {
   "cell_type": "code",
   "execution_count": 123,
   "metadata": {},
   "outputs": [
    {
     "data": {
      "text/plain": [
       "(28, 28)"
      ]
     },
     "execution_count": 123,
     "metadata": {},
     "output_type": "execute_result"
    }
   ],
   "source": [
    "test_data[10].shape"
   ]
  },
  {
   "cell_type": "code",
   "execution_count": 147,
   "metadata": {},
   "outputs": [],
   "source": [
    "import random\n",
    "\n",
    "# Create a function for plotting a random image along with its prediction\n",
    "def plot_random_image(model, test_data, test_labels, classes):\n",
    "  \"\"\"Picks a random image, plots it and labels it with a predicted and truth label.\n",
    "\n",
    "  Args:\n",
    "    model: a trained model (trained on data similar to what's in test_data).\n",
    "    test_data: a set of random images (in tensor form).\n",
    "    test_labels: array of ground truth labels for images.\n",
    "    classes: array of class names for images.\n",
    "  \n",
    "  Returns:\n",
    "    A plot of a random image from `images` with a predicted class label from `model`\n",
    "    as well as the truth class label from `true_labels`.\n",
    "  \"\"\" \n",
    "  # Setup random integer\n",
    "  i = random.randint(0, len(test_data)) # 0 to 60000 depend on model\n",
    "  \n",
    "  # Create predictions and targets\n",
    "  target_image = test_data[i]\n",
    "  pred_probs = model.predict(target_image.reshape(1,28,28)) # have to reshape to get into right size for model \n",
    "  # one image prediction # (batch size,..,..) >> refers to the number of training examples utilized in one iteration\n",
    "  # when we predict full data batch size = None , means it is a dynamic shape t can take any value depending on\n",
    "\n",
    "  pred_label = classes[pred_probs.argmax()]\n",
    "  true_label = classes[test_labels[i]]\n",
    "\n",
    "  # Plot the target image\n",
    "  plt.imshow(target_image)\n",
    "\n",
    "  # Change the color of the titles depending on if the prediction is right or wrong\n",
    "  if pred_label == true_label:\n",
    "    color = \"blue\"\n",
    "  else:\n",
    "    color = \"red\"\n",
    "\n",
    "  # Add xlabel information (prediction/true label)\n",
    "  plt.xlabel(f\"Pred: {pred_label} {100*tf.reduce_max(pred_probs):2.0f}% (True: {true_label})\",\n",
    "             color=color) # set the color to blue or red"
   ]
  },
  {
   "cell_type": "code",
   "execution_count": 150,
   "metadata": {},
   "outputs": [
    {
     "data": {
      "image/png": "[encoded data removed]",
      "text/plain": [
       "<Figure size 432x288 with 1 Axes>"
      ]
     },
     "metadata": {
      "needs_background": "light"
     },
     "output_type": "display_data"
    }
   ],
   "source": [
    "# Check out a random image as well as its prediction\n",
    "plot_random_image(model=model_4, \n",
    "                  test_data=test_data_norm, \n",
    "                  test_labels=test_labels, \n",
    "                  classes=totype)"
   ]
  },
  {
   "cell_type": "code",
   "execution_count": 144,
   "metadata": {},
   "outputs": [
    {
     "data": {
      "text/plain": [
       "(array([[ 0.79466134, -0.53290075,  0.52827364, -0.5078688 ],\n",
       "        [ 0.65571415, -0.9378714 , -0.03041581,  0.0205456 ],\n",
       "        [ 0.9758857 , -0.50979817, -0.15114583, -0.35570446],\n",
       "        ...,\n",
       "        [ 0.5982793 ,  0.7336096 , -0.25218114, -0.5898736 ],\n",
       "        [ 0.3478078 ,  0.27296305,  0.31235892, -0.5814664 ],\n",
       "        [ 0.78299046,  0.12814316, -0.6544623 , -0.2580593 ]],\n",
       "       dtype=float32),\n",
       " (784, 4))"
      ]
     },
     "execution_count": 144,
     "metadata": {},
     "output_type": "execute_result"
    }
   ],
   "source": [
    "weight, bias = model_4.layers[1].get_weights()\n",
    "weight , weight.shape"
   ]
  },
  {
   "cell_type": "code",
   "execution_count": 146,
   "metadata": {},
   "outputs": [
    {
     "data": {
      "text/plain": [
       "(array([0.7101358 , 0.36187276, 0.6050522 , 0.66153675], dtype=float32), (4,))"
      ]
     },
     "execution_count": 146,
     "metadata": {},
     "output_type": "execute_result"
    }
   ],
   "source": [
    "bias, bias.shape"
   ]
  }
 ],
 "metadata": {
  "interpreter": {
   "hash": "4efaaac5e6a3ba87c3cc48343833a8dd70f0e3f6dfa4129331674315b012f1e3"
  },
  "kernelspec": {
   "display_name": "Python 3.10.0 64-bit",
   "language": "python",
   "name": "python3"
  },
  "language_info": {
   "codemirror_mode": {
    "name": "ipython",
    "version": 3
   },
   "file_extension": ".py",
   "mimetype": "text/x-python",
   "name": "python",
   "nbconvert_exporter": "python",
   "pygments_lexer": "ipython3",
   "version": "3.10.0"
  },
  "orig_nbformat": 4
 },
 "nbformat": 4,
 "nbformat_minor": 2
}
